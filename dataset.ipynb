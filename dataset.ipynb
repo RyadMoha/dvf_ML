{
 "cells": [
  {
   "cell_type": "markdown",
   "id": "8917b8b1",
   "metadata": {},
   "source": [
    "# Imports"
   ]
  },
  {
   "cell_type": "code",
   "execution_count": null,
   "id": "38cd6f00",
   "metadata": {},
   "outputs": [],
   "source": [
    "import pandas as pd\n",
    "import os\n"
   ]
  },
  {
   "cell_type": "markdown",
   "id": "ff30c439",
   "metadata": {},
   "source": [
    "# Nettoyage Dataset"
   ]
  },
  {
   "cell_type": "code",
   "execution_count": null,
   "id": "727b6771",
   "metadata": {},
   "outputs": [
    {
     "name": "stdout",
     "output_type": "stream",
     "text": [
      "Export terminé.\n"
     ]
    }
   ],
   "source": [
    "# Chargement\n",
    "df = pd.read_csv(\"data/ValeursFoncieres-2022.txt\", sep='|', low_memory=False)\n",
    "\n",
    "# Harmonisation\n",
    "df['Commune'] = df['Commune'].str.upper()\n",
    "\n",
    "# Filtrage LILLE\n",
    "df_lille = df[\n",
    "    (df['Commune'] == 'LILLE') &\n",
    "    (df['Nature mutation'] == 'Vente') &\n",
    "    (df['Surface reelle bati'].notna()) &\n",
    "    (df['Valeur fonciere'].notna())\n",
    "].copy()\n",
    "\n",
    "# Filtrage BORDEAUX\n",
    "df_bordeaux = df[\n",
    "    (df['Commune'] == 'BORDEAUX') &\n",
    "    (df['Nature mutation'] == 'Vente') &\n",
    "    (df['Surface reelle bati'].notna()) &\n",
    "    (df['Valeur fonciere'].notna())\n",
    "].copy()\n",
    "\n",
    "# Conversion en float\n",
    "for df_city in [df_lille, df_bordeaux]:\n",
    "    df_city['Valeur fonciere'] = df_city['Valeur fonciere'].astype(str).str.replace(',', '.').str.replace(' ', '').astype(float)\n",
    "    df_city['Surface reelle bati'] = df_city['Surface reelle bati'].astype(str).str.replace(',', '.').str.replace(' ', '').astype(float)\n",
    "\n",
    "# Calcul du prix au m²\n",
    "df_lille['prix_m2'] = df_lille['Valeur fonciere'] / df_lille['Surface reelle bati']\n",
    "df_bordeaux['prix_m2'] = df_bordeaux['Valeur fonciere'] / df_bordeaux['Surface reelle bati']\n",
    "\n",
    "# Export\n",
    "os.makedirs(\"data\", exist_ok=True)\n",
    "df_lille.to_csv(\"data/lille_2022.csv\", index=False)\n",
    "df_bordeaux.to_csv(\"data/bordeaux_2022.csv\", index=False)\n",
    "\n",
    "print(\"Export terminé.\")"
   ]
  }
 ],
 "metadata": {
  "kernelspec": {
   "display_name": ".venv",
   "language": "python",
   "name": "python3"
  },
  "language_info": {
   "codemirror_mode": {
    "name": "ipython",
    "version": 3
   },
   "file_extension": ".py",
   "mimetype": "text/x-python",
   "name": "python",
   "nbconvert_exporter": "python",
   "pygments_lexer": "ipython3",
   "version": "3.13.3"
  }
 },
 "nbformat": 4,
 "nbformat_minor": 5
}
